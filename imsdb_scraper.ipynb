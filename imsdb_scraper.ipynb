{
 "cells": [
  {
   "cell_type": "markdown",
   "metadata": {},
   "source": [
    "# IMSDb scraper\n",
    "\n",
    "The following code will scrape all scripts available on the Internet Movie Script Database (http://www.imsdb.com) and store the raw data in individual json objects in a folder titled \"scripts\" for processing and import into the project database"
   ]
  },
  {
   "cell_type": "markdown",
   "metadata": {},
   "source": [
    "## Imports"
   ]
  },
  {
   "cell_type": "code",
   "execution_count": 2,
   "metadata": {},
   "outputs": [],
   "source": [
    "import requests as r                  # HTTP request handling\n",
    "import bs4 as bs                      # HTML parsing\n",
    "import json as j                      # JSON utilities\n",
    "import pandas as pd                   # Data utilities\n",
    "from tqdm import tqdm_notebook as tn  # Progress bar\n",
    "from datetime import datetime         # Datetime object\n",
    "import os                             # OS interaction utilities"
   ]
  },
  {
   "cell_type": "markdown",
   "metadata": {},
   "source": [
    "## Global variable declarations"
   ]
  },
  {
   "cell_type": "code",
   "execution_count": 3,
   "metadata": {},
   "outputs": [],
   "source": [
    "URL = 'http://www.imsdb.com{}' # IMSDb site URL template\n",
    "OUT_FILE = './scripts/{}.json'      # Script json file output directory"
   ]
  },
  {
   "cell_type": "markdown",
   "metadata": {},
   "source": [
    "## Extracting movie links"
   ]
  },
  {
   "cell_type": "code",
   "execution_count": 4,
   "metadata": {},
   "outputs": [
    {
     "data": {
      "text/html": [
       "<div>\n",
       "<style scoped>\n",
       "    .dataframe tbody tr th:only-of-type {\n",
       "        vertical-align: middle;\n",
       "    }\n",
       "\n",
       "    .dataframe tbody tr th {\n",
       "        vertical-align: top;\n",
       "    }\n",
       "\n",
       "    .dataframe thead th {\n",
       "        text-align: right;\n",
       "    }\n",
       "</style>\n",
       "<table border=\"1\" class=\"dataframe\">\n",
       "  <thead>\n",
       "    <tr style=\"text-align: right;\">\n",
       "      <th></th>\n",
       "      <th>title</th>\n",
       "      <th>link</th>\n",
       "    </tr>\n",
       "  </thead>\n",
       "  <tbody>\n",
       "    <tr>\n",
       "      <th>0</th>\n",
       "      <td>10 Things I Hate About You</td>\n",
       "      <td>/Movie Scripts/10 Things I Hate About You Scri...</td>\n",
       "    </tr>\n",
       "    <tr>\n",
       "      <th>1</th>\n",
       "      <td>12</td>\n",
       "      <td>/Movie Scripts/12 Script.html</td>\n",
       "    </tr>\n",
       "    <tr>\n",
       "      <th>2</th>\n",
       "      <td>12 and Holding</td>\n",
       "      <td>/Movie Scripts/12 and Holding Script.html</td>\n",
       "    </tr>\n",
       "    <tr>\n",
       "      <th>3</th>\n",
       "      <td>12 Monkeys</td>\n",
       "      <td>/Movie Scripts/12 Monkeys Script.html</td>\n",
       "    </tr>\n",
       "    <tr>\n",
       "      <th>4</th>\n",
       "      <td>12 Years a Slave</td>\n",
       "      <td>/Movie Scripts/12 Years a Slave Script.html</td>\n",
       "    </tr>\n",
       "  </tbody>\n",
       "</table>\n",
       "</div>"
      ],
      "text/plain": [
       "                        title  \\\n",
       "0  10 Things I Hate About You   \n",
       "1                          12   \n",
       "2              12 and Holding   \n",
       "3                  12 Monkeys   \n",
       "4            12 Years a Slave   \n",
       "\n",
       "                                                link  \n",
       "0  /Movie Scripts/10 Things I Hate About You Scri...  \n",
       "1                      /Movie Scripts/12 Script.html  \n",
       "2          /Movie Scripts/12 and Holding Script.html  \n",
       "3              /Movie Scripts/12 Monkeys Script.html  \n",
       "4        /Movie Scripts/12 Years a Slave Script.html  "
      ]
     },
     "execution_count": 4,
     "metadata": {},
     "output_type": "execute_result"
    }
   ],
   "source": [
    "page = r.get(URL.format('/all scripts')) # Retreieve \"All Scripts\" page                \n",
    "film_list = bs.BeautifulSoup(page.text, \"lxml\") # Convert response object to BeautifulSoup\n",
    "films = film_list.find_all('table')[1].find_all('a')[61:] # Extract film links\n",
    "film_data = pd.DataFrame() # Create DataFrame for data storage\n",
    "film_data['title'] = [x.string for x in films] # Extract film titles\n",
    "film_data['link'] = [x['href'] for x in films] # Extract film links\n",
    "film_data.head() # Check output"
   ]
  },
  {
   "cell_type": "code",
   "execution_count": 44,
   "metadata": {},
   "outputs": [
    {
     "name": "stdout",
     "output_type": "stream",
     "text": [
      "Data succesfully saved to ./scripts/films.csv\n"
     ]
    }
   ],
   "source": [
    "try:\n",
    "    film_data.to_csv('films.csv')\n",
    "    print(\"Data succesfully saved to {}\".format(filename))\n",
    "except:\n",
    "    print(\"Saving failed. Check Pandas 'film_data' object.\")"
   ]
  },
  {
   "cell_type": "markdown",
   "metadata": {},
   "source": [
    "## Extracting film scripts and related info"
   ]
  },
  {
   "cell_type": "code",
   "execution_count": 5,
   "metadata": {},
   "outputs": [
    {
     "data": {
      "text/html": [
       "<div>\n",
       "<style scoped>\n",
       "    .dataframe tbody tr th:only-of-type {\n",
       "        vertical-align: middle;\n",
       "    }\n",
       "\n",
       "    .dataframe tbody tr th {\n",
       "        vertical-align: top;\n",
       "    }\n",
       "\n",
       "    .dataframe thead th {\n",
       "        text-align: right;\n",
       "    }\n",
       "</style>\n",
       "<table border=\"1\" class=\"dataframe\">\n",
       "  <thead>\n",
       "    <tr style=\"text-align: right;\">\n",
       "      <th></th>\n",
       "      <th>title</th>\n",
       "      <th>link</th>\n",
       "    </tr>\n",
       "  </thead>\n",
       "  <tbody>\n",
       "    <tr>\n",
       "      <th>0</th>\n",
       "      <td>10 Things I Hate About You</td>\n",
       "      <td>/Movie Scripts/10 Things I Hate About You Scri...</td>\n",
       "    </tr>\n",
       "    <tr>\n",
       "      <th>1</th>\n",
       "      <td>12</td>\n",
       "      <td>/Movie Scripts/12 Script.html</td>\n",
       "    </tr>\n",
       "    <tr>\n",
       "      <th>2</th>\n",
       "      <td>12 and Holding</td>\n",
       "      <td>/Movie Scripts/12 and Holding Script.html</td>\n",
       "    </tr>\n",
       "    <tr>\n",
       "      <th>3</th>\n",
       "      <td>12 Monkeys</td>\n",
       "      <td>/Movie Scripts/12 Monkeys Script.html</td>\n",
       "    </tr>\n",
       "    <tr>\n",
       "      <th>4</th>\n",
       "      <td>12 Years a Slave</td>\n",
       "      <td>/Movie Scripts/12 Years a Slave Script.html</td>\n",
       "    </tr>\n",
       "  </tbody>\n",
       "</table>\n",
       "</div>"
      ],
      "text/plain": [
       "                        title  \\\n",
       "0  10 Things I Hate About You   \n",
       "1                          12   \n",
       "2              12 and Holding   \n",
       "3                  12 Monkeys   \n",
       "4            12 Years a Slave   \n",
       "\n",
       "                                                link  \n",
       "0  /Movie Scripts/10 Things I Hate About You Scri...  \n",
       "1                      /Movie Scripts/12 Script.html  \n",
       "2          /Movie Scripts/12 and Holding Script.html  \n",
       "3              /Movie Scripts/12 Monkeys Script.html  \n",
       "4        /Movie Scripts/12 Years a Slave Script.html  "
      ]
     },
     "execution_count": 5,
     "metadata": {},
     "output_type": "execute_result"
    }
   ],
   "source": [
    "links = pd.read_csv('films.csv', index_col=0)\n",
    "links.head()"
   ]
  },
  {
   "cell_type": "code",
   "execution_count": 16,
   "metadata": {},
   "outputs": [
    {
     "data": {
      "application/vnd.jupyter.widget-view+json": {
       "model_id": "a36a153b38c441bf9ed1d45f13d017a9",
       "version_major": 2,
       "version_minor": 0
      },
      "text/html": [
       "<p>Failed to display Jupyter Widget of type <code>HBox</code>.</p>\n",
       "<p>\n",
       "  If you're reading this message in the Jupyter Notebook or JupyterLab Notebook, it may mean\n",
       "  that the widgets JavaScript is still loading. If this message persists, it\n",
       "  likely means that the widgets JavaScript library is either not installed or\n",
       "  not enabled. See the <a href=\"https://ipywidgets.readthedocs.io/en/stable/user_install.html\">Jupyter\n",
       "  Widgets Documentation</a> for setup instructions.\n",
       "</p>\n",
       "<p>\n",
       "  If you're reading this message in another frontend (for example, a static\n",
       "  rendering on GitHub or <a href=\"https://nbviewer.jupyter.org/\">NBViewer</a>),\n",
       "  it may mean that your frontend doesn't currently support widgets.\n",
       "</p>\n"
      ],
      "text/plain": [
       "HBox(children=(IntProgress(value=1, bar_style='info', max=1), HTML(value='')))"
      ]
     },
     "metadata": {},
     "output_type": "display_data"
    },
    {
     "name": "stdout",
     "output_type": "stream",
     "text": [
      "\n"
     ]
    },
    {
     "name": "stderr",
     "output_type": "stream",
     "text": [
      "Exception in thread Thread-6:\n",
      "Traceback (most recent call last):\n",
      "  File \"/Users/matt.tranquada/anaconda3/lib/python3.6/threading.py\", line 916, in _bootstrap_inner\n",
      "    self.run()\n",
      "  File \"/Users/matt.tranquada/anaconda3/lib/python3.6/site-packages/tqdm/_tqdm.py\", line 144, in run\n",
      "    for instance in self.tqdm_cls._instances:\n",
      "  File \"/Users/matt.tranquada/anaconda3/lib/python3.6/_weakrefset.py\", line 60, in __iter__\n",
      "    for itemref in self.data:\n",
      "RuntimeError: Set changed size during iteration\n",
      "\n"
     ]
    },
    {
     "name": "stdout",
     "output_type": "stream",
     "text": [
      "\n",
      "Scraping run complete. 1170 files created from original list of 1171 films.\n"
     ]
    }
   ],
   "source": [
    "errors = {}\n",
    "for title, link in tn(zip(links['title'], links['link'])):\n",
    "    \n",
    "    # Create film dictionary object for storing data\n",
    "    film_info = {\n",
    "        'title':title,\n",
    "        'film_link':link,\n",
    "        'script_link':None,\n",
    "        'info_raw':None,\n",
    "        'script':None,\n",
    "        'scraped':str(datetime.now()),\n",
    "    }\n",
    "    \n",
    "    # Retrieve film page and raw film info\n",
    "    film = r.get(URL.format(link))\n",
    "    info = bs.BeautifulSoup(film.text, \"lxml\").find(\"table\", attrs={\"class\":\"script-details\"})\n",
    "    film_info['info_raw'] = str(info)\n",
    "    film_info['script_link'] = info.find_all(\"a\")[-1]['href']\n",
    "    \n",
    "    # Retrieve script page and raw script text\n",
    "    try:\n",
    "        script = r.get(URL.format(film_info['script_link']))\n",
    "        script_text = str(bs.BeautifulSoup(script.text, \"lxml\").find(\"td\", attrs={\"class\":\"scrtext\"}))\n",
    "        film_info['script'] = script_text\n",
    "    except:\n",
    "        errors[title] = film_info['script_link']\n",
    "    \n",
    "    # Output dictionary to json object\n",
    "    with open(OUT_FILE.format(film_info['title']), 'w') as f:\n",
    "        j.dump(film_info, f)\n",
    "\n",
    "# Print status message on completion\n",
    "print(\"Scraping run complete. {} files created from original list of {} films.\".format(len(os.listdir('./scripts')), len(links)))"
   ]
  },
  {
   "cell_type": "code",
   "execution_count": 17,
   "metadata": {},
   "outputs": [
    {
     "name": "stdout",
     "output_type": "stream",
     "text": [
      "dict_keys([])\n",
      "0\n"
     ]
    }
   ],
   "source": [
    "# Check for errors\n",
    "print(errors.keys())\n",
    "print(len(errors.keys()))"
   ]
  },
  {
   "cell_type": "code",
   "execution_count": 81,
   "metadata": {},
   "outputs": [],
   "source": [
    "# Print error log to 'errors.csv'\n",
    "import csv\n",
    "with open('errors.csv', 'w') as csv_file:\n",
    "    writer = csv.writer(csv_file)\n",
    "    for key, value in errors.items():\n",
    "        writer.writerow([key, value])"
   ]
  }
 ],
 "metadata": {
  "kernelspec": {
   "display_name": "Python [conda root]",
   "language": "python",
   "name": "conda-root-py"
  },
  "language_info": {
   "codemirror_mode": {
    "name": "ipython",
    "version": 3
   },
   "file_extension": ".py",
   "mimetype": "text/x-python",
   "name": "python",
   "nbconvert_exporter": "python",
   "pygments_lexer": "ipython3",
   "version": "3.6.4"
  }
 },
 "nbformat": 4,
 "nbformat_minor": 2
}
